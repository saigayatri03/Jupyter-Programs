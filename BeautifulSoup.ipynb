{
  "cells": [
    {
      "cell_type": "markdown",
      "metadata": {
        "id": "view-in-github",
        "colab_type": "text"
      },
      "source": [
        "<a href=\"https://colab.research.google.com/github/saigayatri03/Jupyter-Programs/blob/main/BeautifulSoup.ipynb\" target=\"_parent\"><img src=\"https://colab.research.google.com/assets/colab-badge.svg\" alt=\"Open In Colab\"/></a>"
      ]
    },
    {
      "cell_type": "markdown",
      "metadata": {
        "id": "UD7fBq-Tk_sx"
      },
      "source": [
        "We start with an html element stored as a string in a variable"
      ]
    },
    {
      "cell_type": "code",
      "execution_count": 1,
      "metadata": {
        "colab": {
          "base_uri": "https://localhost:8080/"
        },
        "id": "onCCB9BRU1CV",
        "outputId": "1a40a1db-6695-4db0-c793-be640bfab306"
      },
      "outputs": [
        {
          "output_type": "stream",
          "name": "stdout",
          "text": [
            "Collecting bs4\n",
            "  Downloading bs4-0.0.2-py2.py3-none-any.whl.metadata (411 bytes)\n",
            "Requirement already satisfied: beautifulsoup4 in /usr/local/lib/python3.11/dist-packages (from bs4) (4.13.1)\n",
            "Requirement already satisfied: soupsieve>1.2 in /usr/local/lib/python3.11/dist-packages (from beautifulsoup4->bs4) (2.6)\n",
            "Requirement already satisfied: typing-extensions>=4.0.0 in /usr/local/lib/python3.11/dist-packages (from beautifulsoup4->bs4) (4.12.2)\n",
            "Downloading bs4-0.0.2-py2.py3-none-any.whl (1.2 kB)\n",
            "Installing collected packages: bs4\n",
            "Successfully installed bs4-0.0.2\n"
          ]
        }
      ],
      "source": [
        "!pip install bs4"
      ]
    },
    {
      "cell_type": "markdown",
      "metadata": {
        "id": "KZ7WS2G2OI3p"
      },
      "source": [
        "https://www.crummy.com/software/BeautifulSoup/bs4/doc/"
      ]
    },
    {
      "cell_type": "code",
      "execution_count": 2,
      "metadata": {
        "id": "m8wg5az_WR8-"
      },
      "outputs": [],
      "source": [
        "from bs4 import BeautifulSoup\n",
        "\n",
        "# Sample HTML document\n",
        "html_doc = \"\"\"\n",
        "<html>\n",
        "<head><title>World's Population</title></head>\n",
        "<body>\n",
        "    <h1>Main Heading</h1>\n",
        "    <p class=\"xyz\">This is a paragraph.</p>\n",
        "    <p class=\"content\">Another paragraph with <a href=\"https://example.com\">a link</a>.</p>\n",
        "\n",
        "    <div id=\"container\">\n",
        "        <ul>\n",
        "            <li class=\"item\">Item 1</li>\n",
        "            <li class=\"item\">Item 2</li>\n",
        "            <li class=\"item\">Item 3</li>\n",
        "        </ul>\n",
        "    </div>\n",
        "\n",
        "    <table>\n",
        "        <tr><th>Name</th><th>Age</th></tr>\n",
        "        <tr><td>Alice</td><td>25</td></tr>\n",
        "        <tr><td>Bob</td><td>30</td></tr>\n",
        "    </table>\n",
        "</body>\n",
        "</html>\n",
        "\"\"\"\n",
        "\n"
      ]
    },
    {
      "cell_type": "code",
      "execution_count": 3,
      "metadata": {
        "colab": {
          "base_uri": "https://localhost:8080/"
        },
        "id": "uK3_InNQYDs7",
        "outputId": "74f8f192-7783-4991-dad4-8562fa7a498a"
      },
      "outputs": [
        {
          "output_type": "stream",
          "name": "stdout",
          "text": [
            "\n",
            "<html>\n",
            "<head><title>World's Population</title></head>\n",
            "<body>\n",
            "<h1>Main Heading</h1>\n",
            "<p class=\"xyz\">This is a paragraph.</p>\n",
            "<p class=\"content\">Another paragraph with <a href=\"https://example.com\">a link</a>.</p>\n",
            "<div id=\"container\">\n",
            "<ul>\n",
            "<li class=\"item\">Item 1</li>\n",
            "<li class=\"item\">Item 2</li>\n",
            "<li class=\"item\">Item 3</li>\n",
            "</ul>\n",
            "</div>\n",
            "<table>\n",
            "<tr><th>Name</th><th>Age</th></tr>\n",
            "<tr><td>Alice</td><td>25</td></tr>\n",
            "<tr><td>Bob</td><td>30</td></tr>\n",
            "</table>\n",
            "</body>\n",
            "</html>\n",
            "\n"
          ]
        }
      ],
      "source": [
        "soup = BeautifulSoup(html_doc, \"html.parser\")\n",
        "print(soup)"
      ]
    },
    {
      "cell_type": "code",
      "execution_count": 4,
      "metadata": {
        "colab": {
          "base_uri": "https://localhost:8080/"
        },
        "id": "Uqks49G1XRTW",
        "outputId": "9cd8352f-5d06-432b-e43b-030d42e10e72"
      },
      "outputs": [
        {
          "output_type": "stream",
          "name": "stdout",
          "text": [
            "Page Title: \n",
            "Main Heading\n",
            "This is a paragraph.\n",
            "Another paragraph with a link.\n",
            "\n",
            "\n",
            "Item 1\n",
            "Item 2\n",
            "Item 3\n",
            "\n",
            "\n",
            "\n",
            "NameAge\n",
            "Alice25\n",
            "Bob30\n",
            "\n",
            "\n"
          ]
        }
      ],
      "source": [
        "#Finding things via tags\n",
        "\n",
        "# 1. **Basic Parsing**\n",
        "print(\"Page Title:\", soup.body.text)  # Extract title\n",
        "#Limitation: Finds first occurence only"
      ]
    },
    {
      "cell_type": "code",
      "execution_count": 5,
      "metadata": {
        "colab": {
          "base_uri": "https://localhost:8080/"
        },
        "id": "TrFHHrjYFu10",
        "outputId": "3c610427-cef3-4a42-d22e-d75916d298ae"
      },
      "outputs": [
        {
          "output_type": "stream",
          "name": "stdout",
          "text": [
            "\n",
            "Prettified HTML:\n",
            "<html>\n",
            " <body>\n",
            "  <span>\n",
            "   This is first\n",
            "  </span>\n",
            "  <p>\n",
            "   This is second\n",
            "  </p>\n",
            " </body>\n",
            "</html>\n",
            "\n"
          ]
        }
      ],
      "source": [
        "# 10. **Prettifying HTML Output**\n",
        "x = BeautifulSoup(\"<html><body><span>This is first</span><p>This is second</p></body></html>\",\"html.parser\")\n",
        "print(\"\\nPrettified HTML:\")\n",
        "print(x.prettify())"
      ]
    },
    {
      "cell_type": "code",
      "execution_count": 6,
      "metadata": {
        "colab": {
          "base_uri": "https://localhost:8080/"
        },
        "id": "d90SVPtmXSWk",
        "outputId": "711901d5-7a09-4c1a-c0c6-7aff647ae9e5"
      },
      "outputs": [
        {
          "output_type": "stream",
          "name": "stdout",
          "text": [
            "\n",
            "Find first paragraph: This is a paragraph.\n",
            "Find all paragraphs: [<p class=\"xyz\">This is a paragraph.</p>, <p class=\"content\">Another paragraph with <a href=\"https://example.com\">a link</a>.</p>]\n",
            "['This is a paragraph.', 'Another paragraph with a link.']\n"
          ]
        }
      ],
      "source": [
        "# 2. **Finding Elements**\n",
        "print(\"\\nFind first paragraph:\",( soup.find(\"p\").text) ) # First <p> tag\n",
        "print(\"Find all paragraphs:\", soup.find_all(\"p\"))  # All <p> tags\n",
        "x = []\n",
        "for i in soup.find_all(\"p\"):\n",
        "  x.append(i.text)\n",
        "print(x)"
      ]
    },
    {
      "cell_type": "markdown",
      "metadata": {
        "id": "2AofijstOGx0"
      },
      "source": []
    },
    {
      "cell_type": "code",
      "execution_count": 7,
      "metadata": {
        "colab": {
          "base_uri": "https://localhost:8080/"
        },
        "id": "VY65Swe5XS8S",
        "outputId": "cac9ec48-168e-43bd-f53c-10454505241e"
      },
      "outputs": [
        {
          "output_type": "stream",
          "name": "stdout",
          "text": [
            "\n",
            "Using CSS Selectors:\n",
            "This is a paragraph.\n",
            "This is a paragraph.\n",
            "Item 2\n"
          ]
        }
      ],
      "source": [
        "# 3. **Using CSS Selectors**\n",
        "print(\"\\nUsing CSS Selectors:\")\n",
        "print(soup.select(\"p\")[0].text)  # Select by tag name\n",
        "print(soup.select(\".xyz\")[0].text)  # Select by class\n",
        "print(soup.select(\"#container ul li\")[1].text)  # Select second list item in <ul>"
      ]
    },
    {
      "cell_type": "code",
      "execution_count": 8,
      "metadata": {
        "colab": {
          "base_uri": "https://localhost:8080/"
        },
        "id": "8U85mdtsXi_a",
        "outputId": "d3bbe2d0-062e-46b6-a9a3-0c7b7b37ce8f"
      },
      "outputs": [
        {
          "output_type": "stream",
          "name": "stdout",
          "text": [
            "\n",
            "Navigating the DOM:\n",
            "Main Heading\n",
            "Item 1\n"
          ]
        }
      ],
      "source": [
        "# 4. **Navigating the DOM**\n",
        "print(\"\\nNavigating the DOM:\")\n",
        "print(soup.body.h1.text)  # First <h1> tag inside <body>\n",
        "print(soup.body.div.ul.li.text)  # First <li> inside <div> -> <ul>"
      ]
    },
    {
      "cell_type": "code",
      "execution_count": 9,
      "metadata": {
        "id": "NvuUgD_rXjuM",
        "colab": {
          "base_uri": "https://localhost:8080/"
        },
        "outputId": "915498fc-2c59-4ad3-ae1b-7a2895520c95"
      },
      "outputs": [
        {
          "output_type": "stream",
          "name": "stdout",
          "text": [
            "a link\n",
            "\n",
            "Extracting Attributes:\n",
            "Link URL: https://example.com\n"
          ]
        }
      ],
      "source": [
        "# 5. **Extracting Attributes**\n",
        "link = soup.find(\"a\")\n",
        "print(link.text)\n",
        "print(\"\\nExtracting Attributes:\")\n",
        "print(\"Link URL:\", link[\"href\"])  # Extract href attribute of <a>"
      ]
    },
    {
      "cell_type": "code",
      "execution_count": 10,
      "metadata": {
        "id": "lwI3L38tXjYJ",
        "colab": {
          "base_uri": "https://localhost:8080/"
        },
        "outputId": "da6d8f04-7fa3-46bb-9e4e-d6616ee3183c"
      },
      "outputs": [
        {
          "output_type": "stream",
          "name": "stdout",
          "text": [
            "\n",
            "Modifying HTML:\n",
            "Updated Heading\n"
          ]
        }
      ],
      "source": [
        "\n",
        "# 6. **Modifying HTML**\n",
        "print(\"\\nModifying HTML:\")\n",
        "soup.find(\"h1\").string = \"Updated Heading\"\n",
        "print(soup.h1.text)"
      ]
    },
    {
      "cell_type": "code",
      "execution_count": 11,
      "metadata": {
        "colab": {
          "base_uri": "https://localhost:8080/"
        },
        "id": "G0fUVumfXwKl",
        "outputId": "04f9d4d9-2fe4-4eb2-c55b-5ac13820fd13"
      },
      "outputs": [
        {
          "output_type": "stream",
          "name": "stdout",
          "text": [
            "\n",
            "Extracting All Text from Page:\n",
            "\n",
            "|\n",
            "|World's Population|\n",
            "|\n",
            "|Updated Heading|\n",
            "|This is a paragraph.|\n",
            "|Another paragraph with |a link|.|\n",
            "|\n",
            "|\n",
            "|Item 1|\n",
            "|Item 2|\n",
            "|Item 3|\n",
            "|\n",
            "|\n",
            "|\n",
            "|Name|Age|\n",
            "|Alice|25|\n",
            "|Bob|30|\n",
            "|\n",
            "|\n",
            "|\n",
            "\n"
          ]
        }
      ],
      "source": [
        "# 7. **Extracting Text**\n",
        "print(\"\\nExtracting All Text from Page:\")\n",
        "print(soup.get_text(separator='|'))"
      ]
    },
    {
      "cell_type": "code",
      "execution_count": 12,
      "metadata": {
        "id": "PASxBNavKQB4",
        "colab": {
          "base_uri": "https://localhost:8080/"
        },
        "outputId": "9b2532ed-247e-427c-9262-6e85340e0557"
      },
      "outputs": [
        {
          "output_type": "stream",
          "name": "stdout",
          "text": [
            "\n",
            "After Removing h1: \n",
            "<html>\n",
            "<head><title>World's Population</title></head>\n",
            "<body>\n",
            "\n",
            "<p class=\"xyz\">This is a paragraph.</p>\n",
            "<p class=\"content\">Another paragraph with <a href=\"https://example.com\">a link</a>.</p>\n",
            "<div id=\"container\">\n",
            "<ul>\n",
            "<li class=\"item\">Item 1</li>\n",
            "<li class=\"item\">Item 2</li>\n",
            "<li class=\"item\">Item 3</li>\n",
            "</ul>\n",
            "</div>\n",
            "<table>\n",
            "<tr><th>Name</th><th>Age</th></tr>\n",
            "<tr><td>Alice</td><td>25</td></tr>\n",
            "<tr><td>Bob</td><td>30</td></tr>\n",
            "</table>\n",
            "</body>\n",
            "</html>\n",
            "\n"
          ]
        }
      ],
      "source": [
        "# 9. **Decomposing (Removing) Elements**\n",
        "soup.find(\"h1\").decompose()  # Remove <h1> tag\n",
        "print(\"\\nAfter Removing h1:\", soup)"
      ]
    },
    {
      "cell_type": "code",
      "execution_count": 13,
      "metadata": {
        "colab": {
          "base_uri": "https://localhost:8080/"
        },
        "id": "YrdhsmKkXwjS",
        "outputId": "b681a475-3cc4-4a73-f8f1-5f77be29d9be"
      },
      "outputs": [
        {
          "output_type": "stream",
          "name": "stdout",
          "text": [
            "\n",
            "Table Data:\n",
            "['NameAge']\n",
            "['Alice25']\n",
            "Name: Alice, Age: 25\n",
            "['Bob30']\n",
            "Name: Bob, Age: 30\n"
          ]
        }
      ],
      "source": [
        "# 8. **Working with Tables**\n",
        "table1 = soup.find(\"table\")\n",
        "rows = table1.find_all(\"tr\")\n",
        "print(\"\\nTable Data:\")\n",
        "for row in rows:\n",
        "   cols = row.find_all(\"td\")\n",
        "   print(row.text.split())\n",
        "   if cols:\n",
        "        print(f\"Name: {cols[0].text}, Age: {cols[1].text}\")"
      ]
    },
    {
      "cell_type": "code",
      "execution_count": 14,
      "metadata": {
        "id": "FsU7dSBMdJZ8"
      },
      "outputs": [],
      "source": [
        "x='<html><th>Location</th><th>Population</th></html>'"
      ]
    },
    {
      "cell_type": "code",
      "execution_count": 15,
      "metadata": {
        "id": "eiSLsM_ydzF3",
        "colab": {
          "base_uri": "https://localhost:8080/",
          "height": 36
        },
        "outputId": "3441094f-3c56-4026-df9c-6f353b588157"
      },
      "outputs": [
        {
          "output_type": "execute_result",
          "data": {
            "text/plain": [
              "'<html><th>Location</th><th>Population</th></html>'"
            ],
            "application/vnd.google.colaboratory.intrinsic+json": {
              "type": "string"
            }
          },
          "metadata": {},
          "execution_count": 15
        }
      ],
      "source": [
        "x"
      ]
    },
    {
      "cell_type": "code",
      "execution_count": 16,
      "metadata": {
        "id": "Un-YPOBXlJCW",
        "colab": {
          "base_uri": "https://localhost:8080/"
        },
        "outputId": "81ed5eff-1616-47b4-a6f6-6bf1ec570bc2"
      },
      "outputs": [
        {
          "output_type": "stream",
          "name": "stdout",
          "text": [
            "<class 'str'>\n"
          ]
        }
      ],
      "source": [
        "print(type(x))"
      ]
    },
    {
      "cell_type": "markdown",
      "metadata": {
        "id": "bOKC3RjHlPc9"
      },
      "source": [
        "Importing Beautiful Soup, provided it's already installed"
      ]
    },
    {
      "cell_type": "code",
      "execution_count": 17,
      "metadata": {
        "id": "TfgZZqBgd1CJ"
      },
      "outputs": [],
      "source": [
        "from bs4 import BeautifulSoup"
      ]
    },
    {
      "cell_type": "code",
      "execution_count": 18,
      "metadata": {
        "id": "hhRV4B1heAGZ",
        "colab": {
          "base_uri": "https://localhost:8080/"
        },
        "outputId": "c971ac8a-8d74-45aa-eba8-e6956d909201"
      },
      "outputs": [
        {
          "output_type": "stream",
          "name": "stdout",
          "text": [
            "<html><body><th>Location</th><th>Population</th></body></html>\n",
            "<class 'bs4.BeautifulSoup'>\n"
          ]
        }
      ],
      "source": [
        "soup=BeautifulSoup(x)\n",
        "print(soup)\n",
        "print(type(soup))"
      ]
    },
    {
      "cell_type": "markdown",
      "metadata": {
        "id": "aUxRyKTLe5pV"
      },
      "source": [
        "Finding First Occurence, soup.find is helping us find the first occurence"
      ]
    },
    {
      "cell_type": "code",
      "execution_count": 19,
      "metadata": {
        "id": "7PPzz4TheV44",
        "colab": {
          "base_uri": "https://localhost:8080/"
        },
        "outputId": "df8268e6-6bc0-44c2-cacf-a55cf5f2e30d"
      },
      "outputs": [
        {
          "output_type": "stream",
          "name": "stdout",
          "text": [
            "<th>Location</th>\n",
            "<class 'bs4.element.Tag'>\n",
            "Location\n",
            "<class 'str'>\n"
          ]
        }
      ],
      "source": [
        "firstfind = soup.find('th')\n",
        "print(firstfind)\n",
        "print(type(firstfind))\n",
        "print(firstfind.text)\n",
        "print(type(firstfind.text))"
      ]
    },
    {
      "cell_type": "markdown",
      "metadata": {
        "id": "0uxBcB0mfBeE"
      },
      "source": [
        "Finding All occurences, soup.find_all is helping us find all occurences"
      ]
    },
    {
      "cell_type": "code",
      "execution_count": 20,
      "metadata": {
        "id": "EjFGDFu0fBHB",
        "colab": {
          "base_uri": "https://localhost:8080/",
          "height": 367
        },
        "outputId": "fff750a8-68b2-4930-b84d-3d3f3b136eb0"
      },
      "outputs": [
        {
          "output_type": "stream",
          "name": "stdout",
          "text": [
            "[<th>Location</th>, <th>Population</th>]\n",
            "<class 'bs4.element.ResultSet'>\n"
          ]
        },
        {
          "output_type": "error",
          "ename": "AttributeError",
          "evalue": "ResultSet object has no attribute \"text\". You're probably treating a list of elements like a single element. Did you call find_all() when you meant to call find()?",
          "traceback": [
            "\u001b[0;31m---------------------------------------------------------------------------\u001b[0m",
            "\u001b[0;31mAttributeError\u001b[0m                            Traceback (most recent call last)",
            "\u001b[0;32m<ipython-input-20-98ae9902fca5>\u001b[0m in \u001b[0;36m<cell line: 0>\u001b[0;34m()\u001b[0m\n\u001b[1;32m      2\u001b[0m \u001b[0mprint\u001b[0m\u001b[0;34m(\u001b[0m\u001b[0mallfind\u001b[0m\u001b[0;34m)\u001b[0m\u001b[0;34m\u001b[0m\u001b[0;34m\u001b[0m\u001b[0m\n\u001b[1;32m      3\u001b[0m \u001b[0mprint\u001b[0m\u001b[0;34m(\u001b[0m\u001b[0mtype\u001b[0m\u001b[0;34m(\u001b[0m\u001b[0mallfind\u001b[0m\u001b[0;34m)\u001b[0m\u001b[0;34m)\u001b[0m\u001b[0;34m\u001b[0m\u001b[0;34m\u001b[0m\u001b[0m\n\u001b[0;32m----> 4\u001b[0;31m \u001b[0mprint\u001b[0m\u001b[0;34m(\u001b[0m\u001b[0mallfind\u001b[0m\u001b[0;34m.\u001b[0m\u001b[0mtext\u001b[0m\u001b[0;34m)\u001b[0m\u001b[0;31m#Error\u001b[0m\u001b[0;34m\u001b[0m\u001b[0;34m\u001b[0m\u001b[0m\n\u001b[0m\u001b[1;32m      5\u001b[0m \u001b[0mprint\u001b[0m\u001b[0;34m(\u001b[0m\u001b[0mtype\u001b[0m\u001b[0;34m(\u001b[0m\u001b[0mallfind\u001b[0m\u001b[0;34m.\u001b[0m\u001b[0mtext\u001b[0m\u001b[0;34m)\u001b[0m\u001b[0;34m)\u001b[0m\u001b[0;31m#Error\u001b[0m\u001b[0;34m\u001b[0m\u001b[0;34m\u001b[0m\u001b[0m\n",
            "\u001b[0;32m/usr/local/lib/python3.11/dist-packages/bs4/element.py\u001b[0m in \u001b[0;36m__getattr__\u001b[0;34m(self, key)\u001b[0m\n\u001b[1;32m   2875\u001b[0m     \u001b[0;32mdef\u001b[0m \u001b[0m__getattr__\u001b[0m\u001b[0;34m(\u001b[0m\u001b[0mself\u001b[0m\u001b[0;34m,\u001b[0m \u001b[0mkey\u001b[0m\u001b[0;34m:\u001b[0m \u001b[0mstr\u001b[0m\u001b[0;34m)\u001b[0m \u001b[0;34m->\u001b[0m \u001b[0;32mNone\u001b[0m\u001b[0;34m:\u001b[0m\u001b[0;34m\u001b[0m\u001b[0;34m\u001b[0m\u001b[0m\n\u001b[1;32m   2876\u001b[0m         \u001b[0;34m\"\"\"Raise a helpful exception to explain a common code fix.\"\"\"\u001b[0m\u001b[0;34m\u001b[0m\u001b[0;34m\u001b[0m\u001b[0m\n\u001b[0;32m-> 2877\u001b[0;31m         raise AttributeError(\n\u001b[0m\u001b[1;32m   2878\u001b[0m             \u001b[0;34mf\"\"\"ResultSet object has no attribute \"{key}\". You're probably treating a list of elements like a single element. Did you call find_all() when you meant to call find()?\"\"\"\u001b[0m\u001b[0;34m\u001b[0m\u001b[0;34m\u001b[0m\u001b[0m\n\u001b[1;32m   2879\u001b[0m         )\n",
            "\u001b[0;31mAttributeError\u001b[0m: ResultSet object has no attribute \"text\". You're probably treating a list of elements like a single element. Did you call find_all() when you meant to call find()?"
          ]
        }
      ],
      "source": [
        "allfind=soup.find_all('th')\n",
        "print(allfind)\n",
        "print(type(allfind))\n",
        "print(allfind.text)#Error\n",
        "print(type(allfind.text))#Error\n"
      ]
    },
    {
      "cell_type": "code",
      "execution_count": 21,
      "metadata": {
        "id": "pDTU1I3Qf-H1",
        "colab": {
          "base_uri": "https://localhost:8080/"
        },
        "outputId": "4fc9f109-ab3b-4cba-d4ad-de4b10de7ec9"
      },
      "outputs": [
        {
          "output_type": "stream",
          "name": "stdout",
          "text": [
            "<th>Location</th>\n",
            "<th>Population</th>\n"
          ]
        }
      ],
      "source": [
        "for i in allfind:\n",
        "  print(i)"
      ]
    },
    {
      "cell_type": "code",
      "execution_count": 22,
      "metadata": {
        "id": "9VPKSDtOg12h",
        "colab": {
          "base_uri": "https://localhost:8080/"
        },
        "outputId": "a2a939fd-b77e-40ad-c2f0-8487b7f798ec"
      },
      "outputs": [
        {
          "output_type": "stream",
          "name": "stdout",
          "text": [
            "Location\n",
            "Population\n"
          ]
        }
      ],
      "source": [
        "for i in allfind:\n",
        "  print(i.text)"
      ]
    },
    {
      "cell_type": "code",
      "execution_count": 23,
      "metadata": {
        "id": "Mm67SAHshK-9",
        "colab": {
          "base_uri": "https://localhost:8080/"
        },
        "outputId": "5b188f0a-b4b7-4c99-c828-08826c5fa9f8"
      },
      "outputs": [
        {
          "output_type": "execute_result",
          "data": {
            "text/plain": [
              "['Location', 'Population']"
            ]
          },
          "metadata": {},
          "execution_count": 23
        }
      ],
      "source": [
        "headers=[]\n",
        "for i in allfind:\n",
        "  headers.append(i.text)\n",
        "\n",
        "headers"
      ]
    },
    {
      "cell_type": "markdown",
      "metadata": {
        "id": "SaHeFKQ6h1SM"
      },
      "source": [
        "By List Comprehension"
      ]
    },
    {
      "cell_type": "code",
      "execution_count": 24,
      "metadata": {
        "id": "8nf0ck5ChsHv",
        "colab": {
          "base_uri": "https://localhost:8080/"
        },
        "outputId": "41f0fcf9-0f0e-4d8d-b13a-2548d55cbbd3"
      },
      "outputs": [
        {
          "output_type": "execute_result",
          "data": {
            "text/plain": [
              "['Location', 'Population']"
            ]
          },
          "metadata": {},
          "execution_count": 24
        }
      ],
      "source": [
        "headers = [i.text for i in allfind]\n",
        "headers"
      ]
    },
    {
      "cell_type": "code",
      "execution_count": null,
      "metadata": {
        "id": "6VPz__6gioZl"
      },
      "outputs": [],
      "source": []
    },
    {
      "cell_type": "markdown",
      "metadata": {
        "id": "ce9d7d3d"
      },
      "source": [
        "\n",
        "# Beautiful Soup Quiz - Code Tracing\n",
        "\n",
        "This notebook contains 10 questions focused on code tracing for Beautiful Soup. Each question includes code snippets, multiple-choice options, and the correct answer. Run the cells to see the correct answers.\n"
      ]
    },
    {
      "cell_type": "markdown",
      "metadata": {
        "id": "7e60060c"
      },
      "source": [
        "### Question 1\n",
        "```python\n",
        "\n",
        "from bs4 import BeautifulSoup\n",
        "\n",
        "html_doc = \"<html><body><h1>Hello, World!</h1></body></html>\"\n",
        "soup = BeautifulSoup(html_doc, \"html.parser\")\n",
        "print(soup.h1.text)\n",
        "```"
      ]
    },
    {
      "cell_type": "markdown",
      "metadata": {
        "id": "104aca6c"
      },
      "source": [
        "**Options:**\n",
        "A) <h1>Hello, World!</h1>\n",
        "B) Hello, World!\n",
        "C) None\n",
        "D) Error: AttributeError"
      ]
    },
    {
      "cell_type": "code",
      "execution_count": null,
      "metadata": {
        "id": "09ad8bb5"
      },
      "outputs": [],
      "source": [
        "# Correct Answer\n",
        "print(\"Correct Answer: B) Hello, World!\")"
      ]
    },
    {
      "cell_type": "markdown",
      "metadata": {
        "id": "b2b53db3"
      },
      "source": [
        "### Question 2\n",
        "```python\n",
        "\n",
        "from bs4 import BeautifulSoup\n",
        "\n",
        "html_doc = \"<html><body><p class='info'>Python</p><p>Beautiful Soup</p></body></html>\"\n",
        "soup = BeautifulSoup(html_doc, \"html.parser\")\n",
        "print(soup.find('p').text)\n",
        "```"
      ]
    },
    {
      "cell_type": "markdown",
      "metadata": {
        "id": "629bc6da"
      },
      "source": [
        "**Options:**\n",
        "A) Python\n",
        "B) Beautiful Soup\n",
        "C) <p class='info'>Python</p>\n",
        "D) None"
      ]
    },
    {
      "cell_type": "code",
      "execution_count": null,
      "metadata": {
        "id": "0fe73949"
      },
      "outputs": [],
      "source": [
        "# Correct Answer\n",
        "print(\"Correct Answer: A) Python\")"
      ]
    },
    {
      "cell_type": "markdown",
      "metadata": {
        "id": "55d6a4e1"
      },
      "source": [
        "### Question 3\n",
        "```python\n",
        "\n",
        "from bs4 import BeautifulSoup\n",
        "\n",
        "html_doc = \"\"\"\n",
        "<html>\n",
        "  <body>\n",
        "    <p class='content'>Paragraph 1</p>\n",
        "    <p>Paragraph 2</p>\n",
        "    <p class='content'>Paragraph 3</p>\n",
        "  </body>\n",
        "</html>\n",
        "\"\"\"\n",
        "soup = BeautifulSoup(html_doc, \"html.parser\")\n",
        "result = soup.find_all('p', class_='content')\n",
        "for item in result:\n",
        "    print(item.text)\n",
        "```"
      ]
    },
    {
      "cell_type": "markdown",
      "metadata": {
        "id": "f37b1798"
      },
      "source": [
        "**Options:**\n",
        "A) Paragraph 1\n",
        "B) Paragraph 1 and Paragraph 3\n",
        "C) Paragraph 2\n",
        "D) None"
      ]
    },
    {
      "cell_type": "code",
      "execution_count": null,
      "metadata": {
        "id": "b714eb82"
      },
      "outputs": [],
      "source": [
        "# Correct Answer\n",
        "print(\"Correct Answer: B) Paragraph 1 and Paragraph 3\")"
      ]
    },
    {
      "cell_type": "markdown",
      "metadata": {
        "id": "97fe9ee2"
      },
      "source": [
        "### Question 4\n",
        "```python\n",
        "\n",
        "from bs4 import BeautifulSoup\n",
        "\n",
        "html_doc = \"<html><a href='https://example.com'>Visit Example</a></html>\"\n",
        "soup = BeautifulSoup(html_doc, \"html.parser\")\n",
        "print(soup.a['href'])\n",
        "```"
      ]
    },
    {
      "cell_type": "markdown",
      "metadata": {
        "id": "8827e2fc"
      },
      "source": [
        "**Options:**\n",
        "A) https://example.com\n",
        "B) Visit Example\n",
        "C) <a href='https://example.com'>Visit Example</a>\n",
        "D) None"
      ]
    },
    {
      "cell_type": "code",
      "execution_count": null,
      "metadata": {
        "id": "05bdd2df"
      },
      "outputs": [],
      "source": [
        "# Correct Answer\n",
        "print(\"Correct Answer: A) https://example.com\")"
      ]
    },
    {
      "cell_type": "markdown",
      "metadata": {
        "id": "50b131ba"
      },
      "source": [
        "### Question 5\n",
        "```python\n",
        "\n",
        "from bs4 import BeautifulSoup\n",
        "\n",
        "html_doc = \"\"\"\n",
        "<html>\n",
        "  <body>\n",
        "    <div>\n",
        "      <h1>Title</h1>\n",
        "      <p>Description</p>\n",
        "    </div>\n",
        "  </body>\n",
        "</html>\n",
        "\"\"\"\n",
        "soup = BeautifulSoup(html_doc, \"html.parser\")\n",
        "print(soup.div.h1.text)\n",
        "```"
      ]
    },
    {
      "cell_type": "markdown",
      "metadata": {
        "id": "721f6bfd"
      },
      "source": [
        "**Options:**\n",
        "A) Title\n",
        "B) Description\n",
        "C) <h1>Title</h1>\n",
        "D) None"
      ]
    },
    {
      "cell_type": "code",
      "execution_count": null,
      "metadata": {
        "id": "f99fd25e"
      },
      "outputs": [],
      "source": [
        "# Correct Answer\n",
        "print(\"Correct Answer: A) Title\")"
      ]
    },
    {
      "cell_type": "markdown",
      "metadata": {
        "id": "2e29fbc8"
      },
      "source": [
        "### Question 6\n",
        "```python\n",
        "\n",
        "from bs4 import BeautifulSoup\n",
        "\n",
        "html_doc = \"\"\"\n",
        "<html>\n",
        "  <body>\n",
        "    <ul>\n",
        "      <li>Item 1</li>\n",
        "      <li>Item 2</li>\n",
        "      <li>Item 3</li>\n",
        "    </ul>\n",
        "  </body>\n",
        "</html>\n",
        "\"\"\"\n",
        "soup = BeautifulSoup(html_doc, \"html.parser\")\n",
        "items = soup.find_all('li')\n",
        "print(len(items))\n",
        "```"
      ]
    },
    {
      "cell_type": "markdown",
      "metadata": {
        "id": "e3a449e3"
      },
      "source": [
        "**Options:**\n",
        "A) 1\n",
        "B) 2\n",
        "C) 3\n",
        "D) 0"
      ]
    },
    {
      "cell_type": "code",
      "execution_count": null,
      "metadata": {
        "id": "4360782a"
      },
      "outputs": [],
      "source": [
        "# Correct Answer\n",
        "print(\"Correct Answer: C) 3\")"
      ]
    },
    {
      "cell_type": "markdown",
      "metadata": {
        "id": "335fefa6"
      },
      "source": [
        "### Question 7\n",
        "```python\n",
        "\n",
        "from bs4 import BeautifulSoup\n",
        "\n",
        "html_doc = \"\"\"\n",
        "<html>\n",
        "  <body>\n",
        "    <div id=\"main\">\n",
        "      <p class=\"text\">First</p>\n",
        "      <p class=\"text\">Second</p>\n",
        "    </div>\n",
        "  </body>\n",
        "</html>\n",
        "\"\"\"\n",
        "soup = BeautifulSoup(html_doc, \"html.parser\")\n",
        "result = soup.select('#main .text')\n",
        "for item in result:\n",
        "    print(item.text)\n",
        "```"
      ]
    },
    {
      "cell_type": "markdown",
      "metadata": {
        "id": "e961a211"
      },
      "source": [
        "**Options:**\n",
        "A) First\n",
        "B) First and Second\n",
        "C) Second\n",
        "D) None"
      ]
    },
    {
      "cell_type": "code",
      "execution_count": null,
      "metadata": {
        "id": "73bd8c6c"
      },
      "outputs": [],
      "source": [
        "# Correct Answer\n",
        "print(\"Correct Answer: B) First and Second\")"
      ]
    },
    {
      "cell_type": "markdown",
      "metadata": {
        "id": "b5c0d418"
      },
      "source": [
        "### Question 8\n",
        "```python\n",
        "\n",
        "from bs4 import BeautifulSoup\n",
        "\n",
        "html_doc = \"<html><body><h1>Hello</h1><p>World</p></body></html>\"\n",
        "soup = BeautifulSoup(html_doc, \"html.parser\")\n",
        "print(soup.get_text())\n",
        "```"
      ]
    },
    {
      "cell_type": "markdown",
      "metadata": {
        "id": "1164ef7c"
      },
      "source": [
        "**Options:**\n",
        "A) Hello World\n",
        "B) Hello\\nWorld\n",
        "C) <h1>Hello</h1><p>World</p>\n",
        "D) None"
      ]
    },
    {
      "cell_type": "code",
      "execution_count": null,
      "metadata": {
        "id": "26a2dffc"
      },
      "outputs": [],
      "source": [
        "# Correct Answer\n",
        "print(\"Correct Answer: B) Hello\\nWorld\")"
      ]
    },
    {
      "cell_type": "markdown",
      "metadata": {
        "id": "cda67571"
      },
      "source": [
        "### Question 9\n",
        "```python\n",
        "\n",
        "from bs4 import BeautifulSoup\n",
        "\n",
        "html_doc = \"\"\"\n",
        "<html>\n",
        "  <body>\n",
        "    <img src=\"image1.png\" alt=\"First Image\">\n",
        "    <img src=\"image2.png\" alt=\"Second Image\">\n",
        "  </body>\n",
        "</html>\n",
        "\"\"\"\n",
        "soup = BeautifulSoup(html_doc, \"html.parser\")\n",
        "image = soup.find('img', alt='Second Image')\n",
        "print(image['src'])\n",
        "```"
      ]
    },
    {
      "cell_type": "markdown",
      "metadata": {
        "id": "94a11a3f"
      },
      "source": [
        "**Options:**\n",
        "A) image1.png\n",
        "B) image2.png\n",
        "C) <img src='image2.png' alt='Second Image'>\n",
        "D) None"
      ]
    },
    {
      "cell_type": "code",
      "execution_count": null,
      "metadata": {
        "id": "b83bbd94"
      },
      "outputs": [],
      "source": [
        "# Correct Answer\n",
        "print(\"Correct Answer: B) image2.png\")"
      ]
    },
    {
      "cell_type": "markdown",
      "metadata": {
        "id": "d47ea62c"
      },
      "source": [
        "### Question 10\n",
        "```python\n",
        "\n",
        "from bs4 import BeautifulSoup\n",
        "\n",
        "html_doc = \"\"\"\n",
        "<html>\n",
        "  <body>\n",
        "    <p class=\"info detail\">Content 1</p>\n",
        "    <p class=\"info\">Content 2</p>\n",
        "  </body>\n",
        "</html>\n",
        "\"\"\"\n",
        "soup = BeautifulSoup(html_doc, \"html.parser\")\n",
        "result = soup.find_all('p', class_='info')\n",
        "for item in result:\n",
        "    print(item.text)\n",
        "```"
      ]
    },
    {
      "cell_type": "markdown",
      "metadata": {
        "id": "80caec56"
      },
      "source": [
        "**Options:**\n",
        "A) Content 1\n",
        "B) Content 2\n",
        "C) Content 1 and Content 2\n",
        "D) None"
      ]
    },
    {
      "cell_type": "code",
      "execution_count": null,
      "metadata": {
        "id": "ad440d0c"
      },
      "outputs": [],
      "source": [
        "# Correct Answer\n",
        "print(\"Correct Answer: C) Content 1 and Content 2\")"
      ]
    },
    {
      "cell_type": "markdown",
      "metadata": {
        "id": "zS1ug1trKUc2"
      },
      "source": [
        "**One Small Project**"
      ]
    },
    {
      "cell_type": "markdown",
      "metadata": {
        "id": "eU0JqX2LKhm9"
      },
      "source": [
        "Beautiful Soup is a Python library used for web scraping purposes. It allows you to extract and manipulate data from HTML and XML documents. Here's an example to demonstrate how to use Beautiful Soup to scrape and process a webpage:\n",
        "\n",
        "**Example: Scraping Titles of Blog Posts**"
      ]
    },
    {
      "cell_type": "code",
      "execution_count": null,
      "metadata": {
        "colab": {
          "base_uri": "https://localhost:8080/"
        },
        "id": "nuQC8OhzM-lh",
        "outputId": "6b4fe210-55eb-49db-c313-f96759709c6b"
      },
      "outputs": [
        {
          "name": "stdout",
          "output_type": "stream",
          "text": [
            "Blog Post Titles:\n",
            "1. NumPy Techniques and Practical Examples\n",
            "2. Python for Loops: The Pythonic Way\n",
            "3. Top Python Game Engines\n",
            "4. Build a Quiz Application With Python\n",
            "5. Build a Dice-Rolling Application With Python\n",
            "6. Develop Data Visualization Interfaces in Python With Dash\n",
            "7. Build a Tic-Tac-Toe Game With Python and Tkinter\n",
            "8. Python & APIs: A Winning Combo for Reading Public Data\n",
            "9. Natural Language Processing With spaCy in Python\n",
            "10. Providing Multiple Constructors in Your Python Classes\n",
            "11. A Guide to Modern Python String Formatting Tools\n",
            "12. Split Your Dataset With scikit-learn's train_test_split()\n",
            "13. Creating a Scalable Flask Web Application From Scratch\n",
            "14. How to Split a Python List or Iterable Into Chunks\n",
            "15. Python's \"in\" and \"not in\" Operators: Check for Membership\n",
            "16. Lists vs Tuples in Python\n",
            "17. Python Folium: Create Web Maps From Your Data\n",
            "18. Python's Mutable vs Immutable Types: What's the Difference?\n",
            "19. Python's zipfile: Manipulate Your ZIP Files Efficiently\n"
          ]
        }
      ],
      "source": [
        "from bs4 import BeautifulSoup\n",
        "import requests\n",
        "\n",
        "# URL of the webpage you want to scrape (using a real blog URL for example)\n",
        "url = 'https://realpython.com/'\n",
        "\n",
        "# Send an HTTP request to the webpage\n",
        "response = requests.get(url)\n",
        "\n",
        "# Parse the HTML content of the page\n",
        "soup = BeautifulSoup(response.text, 'html.parser')\n",
        "\n",
        "# Extract all the blog post titles (example: assuming titles are in <h2> tags with class 'card-title')\n",
        "titles = soup.find_all('h2', class_='card-title')\n",
        "\n",
        "# Print the extracted titles\n",
        "print(\"Blog Post Titles:\")\n",
        "for i, title in enumerate(titles, 1):\n",
        "    print(f\"{i}. {title.text.strip()}\")\n"
      ]
    },
    {
      "cell_type": "markdown",
      "metadata": {
        "id": "UJTx2KEtN6Sj"
      },
      "source": [
        "Step 1: Import Libraries\n",
        "The first step is to import the necessary libraries: BeautifulSoup for parsing the HTML content of the webpage and requests for making HTTP requests. These libraries allow us to retrieve the webpage and extract specific elements from its structure.\n",
        "\n",
        "Step 2: Specify the Target URL\n",
        "You define the URL of the webpage you want to scrape. In this project, the target is a blog site, such as \"https://realpython.com/\". This URL serves as the entry point for fetching the content that you want to analyze.\n",
        "\n",
        "Step 3: Send an HTTP Request\n",
        "An HTTP GET request is sent to the specified URL using the requests library. The server responds with the HTML content of the webpage, which we can then process. This step ensures you have access to the page's raw content.\n",
        "\n",
        "Step 4: Parse the HTML Content\n",
        "The HTML content from the response is passed to BeautifulSoup, which parses it and converts it into a structured format that can be navigated like a tree. This enables you to efficiently locate and extract specific elements (e.g., titles, links, or text) from the webpage.\n",
        "\n",
        "Step 5: Locate Blog Post Titles\n",
        "BeautifulSoup's find_all method is used to search for specific tags (e.g., <h2>) and their associated class attributes (e.g., class='card-title'). This method retrieves all the matching elements, which in this case are the blog post titles. The find_all function returns a list containing these elements.\n",
        "\n",
        "Step 6: Loop Through Titles\n",
        "The list of blog post titles is iterated using a loop. For each title, the text content is extracted using the .text attribute of the tag, and unnecessary whitespace is removed using the .strip() method. The loop prints each title alongside its position in the list.\n",
        "\n",
        "Step 7: Display the Extracted Titles\n",
        "Finally, the extracted blog titles are displayed as a numbered list. Each title is printed in a clean format, making it easy to see the output of the project. This step concludes the task, giving you a clear view of the blog posts retrieved from the webpage.\n",
        "\n",
        "This step-by-step process demonstrates the basic workflow of web scraping: accessing a webpage, parsing its structure, and extracting specific data in a meaningful way."
      ]
    }
  ],
  "metadata": {
    "colab": {
      "provenance": [],
      "include_colab_link": true
    },
    "kernelspec": {
      "display_name": "Python 3 (ipykernel)",
      "language": "python",
      "name": "python3"
    },
    "language_info": {
      "codemirror_mode": {
        "name": "ipython",
        "version": 3
      },
      "file_extension": ".py",
      "mimetype": "text/x-python",
      "name": "python",
      "nbconvert_exporter": "python",
      "pygments_lexer": "ipython3",
      "version": "3.12.4"
    }
  },
  "nbformat": 4,
  "nbformat_minor": 0
}